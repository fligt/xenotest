{
 "cells": [
  {
   "cell_type": "markdown",
   "metadata": {},
   "source": [
    "# How to convert new Xenotest kJ/m2 to luxhours "
   ]
  },
  {
   "cell_type": "markdown",
   "metadata": {},
   "source": [
    "*What is the meaning of the kJ/m2 light dose as reported by the new Xeno-test equipment? And how can this unit be converted to luxhours?*"
   ]
  },
  {
   "cell_type": "markdown",
   "metadata": {},
   "source": [
    "## Background information\n",
    "\n",
    "Atlas [Xenotest](https://www.atlas-mts.com/products/standard-instruments/xenon-weathering/xenotest/440) equipment is used in our lab for artificial light aging experiments. The filtered xenon light simulates sunlight through window glass. After a given exposure experiment, the instrument reports the total dose of UV energy per surface area in units of kilo Joule per square meter (kJ/m2). For heritage scientists it is more meaningful to report a light exposure dose in units of lux hours. \n",
    "\n",
    "In this notebook I explain how to calculate the conversion factor. The calculation of the conversion factor is detailed below. It is instructive to read about the theoretical background of lumen and lux calculations on wikipedia: https://en.wikipedia.org/wiki/Luminosity_function.  \n",
    "\n",
    "In order to repeat the calculations below you need to install the color science python package and scipy: \n",
    "\n",
    "    $ pip install colour-science   \n",
    "    \n",
    "    $ pip install scipy \n",
    "\n",
    "It helps to study the documentation on luminous efficiency: \n",
    "\n",
    "https://colour.readthedocs.io/en/v0.3.15/_modules/colour/colorimetry/photometry.html#luminous_efficacy\n",
    "\n",
    "https://colour.readthedocs.io/en/v0.3.15/index.html#luminous-efficiency"
   ]
  },
  {
   "cell_type": "markdown",
   "metadata": {},
   "source": [
    "## Calculation "
   ]
  },
  {
   "cell_type": "markdown",
   "metadata": {},
   "source": [
    "Note that the spectral power distributions and weight functions that we need to work with all list different wavelength values. In order to easily multiply them and determine their surface areas we need to interpolate them all (and make them zero everywhere else). "
   ]
  },
  {
   "cell_type": "code",
   "execution_count": 21,
   "metadata": {
    "ExecuteTime": {
     "end_time": "2020-08-26T11:45:43.595097Z",
     "start_time": "2020-08-26T11:45:43.585832Z"
    }
   },
   "outputs": [],
   "source": [
    "# %matplotlib inline \n",
    "import colour\n",
    "import matplotlib.pyplot as plt \n",
    "import numpy as np\n",
    "#import re\n",
    "import scipy.interpolate as sip \n",
    "#plt.ioff()\n",
    "\n",
    "def interpolate(x, y): \n",
    "    '''Interpolate spectral power distribution and make zero outside. \n",
    "    \n",
    "    Arguments: \n",
    "        x: list of floats (length n) \n",
    "          List of wavelengths (nm)\n",
    "        y: list of floats (length n\n",
    "          List of corresponding intensity values)\n",
    "          \n",
    "    Returns: \n",
    "        ipol: interpolation object'''\n",
    "    \n",
    "    ipol = sip.interp1d(x, y, bounds_error=False, fill_value=0)\n",
    "    \n",
    "    return ipol "
   ]
  },
  {
   "cell_type": "markdown",
   "metadata": {},
   "source": [
    "The calculation is based on the spectral distribution for a xenon light source behind glass as reported by Atlas. Note the cut-off wavelength of 320 nm. "
   ]
  },
  {
   "cell_type": "code",
   "execution_count": 19,
   "metadata": {
    "ExecuteTime": {
     "end_time": "2020-08-26T11:45:11.468856Z",
     "start_time": "2020-08-26T11:45:11.454354Z"
    }
   },
   "outputs": [],
   "source": [
    "xeno_nm = [272.,  274.,  276.,  278.,  280.,  282.,  284.,  286.,  288.,\n",
    "           290.,  292.,  294.,  296.,  298.,  300.,  302.,  304.,  306.,\n",
    "           308.,  310.,  312.,  314.,  316.,  318.,  320.,  322.,  324.,\n",
    "           326.,  328.,  330.,  332.,  334.,  336.,  338.,  340.,  342.,\n",
    "           344.,  346.,  348.,  350.,  352.,  354.,  356.,  358.,  360.,\n",
    "           362.,  364.,  366.,  368.,  370.,  372.,  374.,  376.,  378.,\n",
    "           380.,  382.,  384.,  386.,  388.,  390.,  392.,  394.,  396.,\n",
    "           398.,  400.,  402.,  404.,  406.,  408.,  410.,  412.,  414.,\n",
    "           416.,  418.,  420.,  422.,  424.,  426.,  428.,  430.,  432.,\n",
    "           434.,  436.,  438.,  440.,  442.,  444.,  446.,  448.,  450.,\n",
    "           452.,  454.,  456.,  458.,  460.,  462.,  464.,  466.,  468.,\n",
    "           470.,  472.,  474.,  476.,  478.,  480.,  482.,  484.,  486.,\n",
    "           488.,  490.,  492.,  494.,  496.,  498.,  500.,  520.,  530.,\n",
    "           540.,  550.,  560.,  570.,  580.,  590.,  600.,  610.,  620.,\n",
    "           630.,  640.,  650.,  660.,  670.,  680.,  690.,  700.,  710.,\n",
    "           720.,  730.,  740.,  750.,  760.,  770.,  780.,  790.,  800.] \n",
    "\n",
    "xeno_power = [0.  ,  0.  ,  0.  ,  0.  ,  0.  ,  0.  ,  0.  ,  0.  ,  0.  ,\n",
    "              0.  ,  0.  ,  0.  ,  0.  ,  0.  ,  0.  ,  0.  ,  0.  ,  0.  ,\n",
    "              0.  ,  0.  ,  0.  ,  0.  ,  0.01,  0.02,  0.04,  0.06,  0.08,\n",
    "              0.11,  0.15,  0.18,  0.22,  0.27,  0.32,  0.39,  0.43,  0.49,\n",
    "              0.55,  0.59,  0.64,  0.7 ,  0.74,  0.79,  0.82,  0.84,  0.92,\n",
    "              0.94,  0.98,  1.03,  1.13,  1.1 ,  1.07,  1.09,  1.1 ,  1.11,\n",
    "              1.17,  1.17,  1.12,  1.12,  1.14,  1.19,  1.22,  1.56,  1.69,\n",
    "              1.38,  1.37,  1.37,  1.46,  1.55,  1.72,  1.8 ,  1.8 ,  1.69,\n",
    "              1.73,  1.92,  1.87,  1.82,  1.8 ,  1.76,  1.82,  1.83,  1.82,\n",
    "              1.87,  1.95,  2.09,  2.09,  1.96,  1.95,  1.93,  2.05,  2.59,\n",
    "              2.47,  2.13,  2.46,  2.45,  2.42,  4.32,  2.45,  6.14,  3.63,\n",
    "              3.53,  3.31,  2.65,  2.32,  2.39,  3.51,  3.29,  2.95,  2.4 ,\n",
    "              2.42,  2.83,  3.22,  2.53,  2.41,  2.38,  2.44,  2.46,  2.47,\n",
    "              2.35,  2.42,  2.13,  2.16,  1.98,  1.99,  1.48,  1.45,  1.78,\n",
    "              1.86,  0.91,  1.36,  0.89,  0.61,  0.57,  0.94,  0.39,  0.69,\n",
    "              0.33,  0.53,  1.11,  0.43,  1.29,  0.25,  0.57,  0.52,  0.35]"
   ]
  },
  {
   "cell_type": "markdown",
   "metadata": {},
   "source": [
    "Now we create interpolation objects for the xenon spectrum, the luminous efficiency function and the UV window function (300-400 nm). "
   ]
  },
  {
   "cell_type": "code",
   "execution_count": 25,
   "metadata": {
    "ExecuteTime": {
     "end_time": "2020-08-26T11:59:00.392089Z",
     "start_time": "2020-08-26T11:59:00.387207Z"
    }
   },
   "outputs": [],
   "source": [
    "xeno320_ipol = interpolate(xeno_nm, xeno_power)\n",
    "\n",
    "lum_eff = colour.PHOTOPIC_LEFS['CIE 1924 Photopic Standard Observer']\n",
    "lum_eff_ipol = interpolate(lum_eff.wavelengths, lum_eff.values)\n",
    "\n",
    "is_uv_ipol = interpolate([300, 400], [1, 1])"
   ]
  },
  {
   "cell_type": "markdown",
   "metadata": {},
   "source": [
    "In order to calculate the powers (i.e the surface areas) we interpolate the spectral functions for each nanometer and simply sum their values. "
   ]
  },
  {
   "cell_type": "code",
   "execution_count": 27,
   "metadata": {
    "ExecuteTime": {
     "end_time": "2020-08-26T12:03:03.820219Z",
     "start_time": "2020-08-26T12:03:03.814332Z"
    }
   },
   "outputs": [],
   "source": [
    "x = np.arange(299, 800) # list of wavelenghts \n",
    "\n",
    "uv_power = xeno320_ipol(x) * is_uv_ipol(x)\n",
    "uv_norm = np.sum(uv_power)\n",
    "\n",
    "vis_power = xeno320_ipol(x) * lum_eff_ipol(x) # 'visual Watts'\n",
    "vis_norm = np.sum(vis_power/uv_norm)"
   ]
  },
  {
   "cell_type": "markdown",
   "metadata": {},
   "source": [
    "The visual power for a the xenotest spectrum that is uv normalized is now known: "
   ]
  },
  {
   "cell_type": "code",
   "execution_count": 29,
   "metadata": {
    "ExecuteTime": {
     "end_time": "2020-08-26T12:05:56.237326Z",
     "start_time": "2020-08-26T12:05:56.229930Z"
    }
   },
   "outputs": [
    {
     "data": {
      "text/plain": [
       "3.4885077279080714"
      ]
     },
     "execution_count": 29,
     "metadata": {},
     "output_type": "execute_result"
    }
   ],
   "source": [
    "vis_norm"
   ]
  },
  {
   "cell_type": "markdown",
   "metadata": {},
   "source": [
    "In order to convert (visual) Watts into lumen you need to multiply with this funny number 683:  "
   ]
  },
  {
   "cell_type": "code",
   "execution_count": 30,
   "metadata": {
    "ExecuteTime": {
     "end_time": "2020-08-26T12:10:27.583037Z",
     "start_time": "2020-08-26T12:10:27.579296Z"
    }
   },
   "outputs": [
    {
     "data": {
      "text/plain": [
       "2383.67"
      ]
     },
     "execution_count": 30,
     "metadata": {},
     "output_type": "execute_result"
    }
   ],
   "source": [
    "3.49 * 683 # lumen per UV watt"
   ]
  },
  {
   "cell_type": "markdown",
   "metadata": {},
   "source": [
    "Just to check we calculate here the total surface area for the UV normalized spectrum. "
   ]
  },
  {
   "cell_type": "code",
   "execution_count": 31,
   "metadata": {
    "ExecuteTime": {
     "end_time": "2020-08-26T12:11:31.388577Z",
     "start_time": "2020-08-26T12:11:31.384793Z"
    }
   },
   "outputs": [
    {
     "data": {
      "text/plain": [
       "10.699518311797537"
      ]
     },
     "execution_count": 31,
     "metadata": {},
     "output_type": "execute_result"
    }
   ],
   "source": [
    "tot_power = np.sum(xeno320_ipol(x) / uv_norm)\n",
    "tot_power"
   ]
  },
  {
   "cell_type": "code",
   "execution_count": 32,
   "metadata": {
    "ExecuteTime": {
     "end_time": "2020-08-26T12:12:18.811997Z",
     "start_time": "2020-08-26T12:12:15.305636Z"
    }
   },
   "outputs": [
    {
     "data": {
      "image/png": "[encoded data removed]",
      "text/plain": [
       "<Figure size 576x432 with 1 Axes>"
      ]
     },
     "metadata": {
      "needs_background": "light"
     },
     "output_type": "display_data"
    }
   ],
   "source": [
    "fig, ax = plt.subplots(nrows=1, ncols=1, figsize=[8, 6])\n",
    "\n",
    "ax.fill_between(x, xeno320_ipol(x) / uv_norm, color='r', alpha=0.2, label='xenon+glass')\n",
    "\n",
    "ax.fill_between(x, uv_power / uv_norm, color='b', alpha=0.5, label='uv power')\n",
    "\n",
    "ax.fill_between(x, vis_power/uv_norm, color='g', alpha=0.5, label='vis power')\n",
    "\n",
    "ax.legend()\n",
    "ax.annotate('UV: 1 Watt', [310, 0.025], color='b')\n",
    "ax.annotate('VIS: 3.49 Watt', [530, 0.046], color='g')\n",
    "ax.annotate(r'     $\\times$ 683 = 2384 lumen per UV Watt', [530, 0.042], color='g')\n",
    "ax.annotate('(300-800nm)\\nTOTAL: 10.70 Watt', [480, 0.085], color='r')\n",
    "\n",
    "\n",
    "ax.set_xlabel('wavelength (nm)')\n",
    "ax.set_ylabel('UV-normalized spectral power (Watt/nm)')\n",
    "ax.set_title('Xenotest power conversion factor  (UV Watt to lumens)')\n",
    "plt.savefig('xeno320-conversion-factor.pdf')\n",
    "plt.show()"
   ]
  },
  {
   "cell_type": "markdown",
   "metadata": {},
   "source": [
    "The description of the Xenotest 440 states that the lamps can deliver 40-60 W/m2. A UV intensity of 42 W/m2 would then imply a lux level of 42 x 2384 = 100128 lux. "
   ]
  },
  {
   "cell_type": "markdown",
   "metadata": {},
   "source": [
    "One last step now is to convert seconds into hours. In order to convert a uv dose of 1 kJ / m2 into lux hours, we need another conversion factor: \n",
    "\n",
    "    1 kJ /m2 = 1000 (UV)Watt x 1 sec / m2 \n",
    "             = 1000 / 3600 (UV)Watt hour / m2\n",
    "             = 2384000 / 3600 lumen hour / m2\n",
    "             = 662 lux hour\n",
    "    \n",
    "    \n",
    "\n"
   ]
  },
  {
   "cell_type": "code",
   "execution_count": 139,
   "metadata": {
    "ExecuteTime": {
     "end_time": "2020-06-22T19:30:45.768781Z",
     "start_time": "2020-06-22T19:30:45.764704Z"
    }
   },
   "outputs": [
    {
     "data": {
      "text/plain": [
       "662.2222222222222"
      ]
     },
     "execution_count": 139,
     "metadata": {},
     "output_type": "execute_result"
    }
   ],
   "source": [
    "2384000 / 3600 "
   ]
  },
  {
   "cell_type": "code",
   "execution_count": 137,
   "metadata": {
    "ExecuteTime": {
     "end_time": "2020-06-22T18:35:36.118007Z",
     "start_time": "2020-06-22T18:35:36.114040Z"
    }
   },
   "outputs": [
    {
     "data": {
      "text/plain": [
       "100128"
      ]
     },
     "execution_count": 137,
     "metadata": {},
     "output_type": "execute_result"
    }
   ],
   "source": [
    "42* 2384"
   ]
  },
  {
   "cell_type": "markdown",
   "metadata": {},
   "source": [
    "UV content per lumen is: "
   ]
  },
  {
   "cell_type": "code",
   "execution_count": 33,
   "metadata": {
    "ExecuteTime": {
     "end_time": "2020-08-26T12:21:43.344432Z",
     "start_time": "2020-08-26T12:21:43.339021Z"
    }
   },
   "outputs": [
    {
     "data": {
      "text/plain": [
       "0.00041946308724832214"
      ]
     },
     "execution_count": 33,
     "metadata": {},
     "output_type": "execute_result"
    }
   ],
   "source": [
    "1/ 2384 # Watt / lumen"
   ]
  }
 ],
 "metadata": {
  "kernelspec": {
   "display_name": "Python 3",
   "language": "python",
   "name": "python3"
  },
  "language_info": {
   "codemirror_mode": {
    "name": "ipython",
    "version": 3
   },
   "file_extension": ".py",
   "mimetype": "text/x-python",
   "name": "python",
   "nbconvert_exporter": "python",
   "pygments_lexer": "ipython3",
   "version": "3.7.4"
  },
  "toc": {
   "base_numbering": 1,
   "nav_menu": {},
   "number_sections": true,
   "sideBar": true,
   "skip_h1_title": false,
   "title_cell": "Table of Contents",
   "title_sidebar": "Contents",
   "toc_cell": false,
   "toc_position": {
    "height": "calc(100% - 180px)",
    "left": "10px",
    "top": "150px",
    "width": "245.4px"
   },
   "toc_section_display": true,
   "toc_window_display": true
  }
 },
 "nbformat": 4,
 "nbformat_minor": 2
}
